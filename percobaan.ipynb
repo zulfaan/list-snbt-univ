{
 "cells": [
  {
   "cell_type": "code",
   "execution_count": 1,
   "metadata": {},
   "outputs": [],
   "source": [
    "import requests"
   ]
  },
  {
   "cell_type": "code",
   "execution_count": 2,
   "metadata": {},
   "outputs": [
    {
     "name": "stdout",
     "output_type": "stream",
     "text": [
      "<!doctype html><meta charset=\"utf-8\"><meta name=viewport content=\"width=device-width, initial-scale=1\"><title>403</title>403 Forbidden\n"
     ]
    }
   ],
   "source": [
    "url = 'https://snpmb.bppp.kemdikbud.go.id/utbk-snbt/daftar-ptn-snbt'\n",
    "reponse = requests.get(url)\n",
    "\n",
    "print(reponse.text)"
   ]
  },
  {
   "cell_type": "code",
   "execution_count": 3,
   "metadata": {},
   "outputs": [
    {
     "name": "stdout",
     "output_type": "stream",
     "text": [
      "❌ Timeout! Elemen tidak ditemukan.\n"
     ]
    }
   ],
   "source": [
    "from selenium import webdriver\n",
    "from selenium.webdriver.common.by import By\n",
    "from selenium.webdriver.support.ui import WebDriverWait\n",
    "from selenium.webdriver.support import expected_conditions as EC\n",
    "import time\n",
    "\n",
    "# Inisialisasi WebDriver\n",
    "driver = webdriver.Chrome()\n",
    "url = 'https://snpmb.bppp.kemdikbud.go.id/utbk-snbt/daftar-ptn-snbt'\n",
    "driver.get(url)\n",
    "\n",
    "# Tunggu Halaman Termuat Sepenuhnya\n",
    "time.sleep(5)  # Tambahkan waktu tunggu ekstra\n",
    "\n",
    "try:\n",
    "    WebDriverWait(driver, 30).until(\n",
    "        EC.presence_of_element_located((By.XPATH, \"//table/tbody\"))\n",
    "    )\n",
    "    print(\"✅ Elemen ditemukan! Lanjut ke proses scraping...\")\n",
    "except:\n",
    "    print(\"❌ Timeout! Elemen tidak ditemukan.\")\n",
    "\n",
    "# Tutup browser\n",
    "driver.quit()"
   ]
  },
  {
   "cell_type": "code",
   "execution_count": null,
   "metadata": {},
   "outputs": [],
   "source": []
  }
 ],
 "metadata": {
  "kernelspec": {
   "display_name": "Python 3",
   "language": "python",
   "name": "python3"
  },
  "language_info": {
   "codemirror_mode": {
    "name": "ipython",
    "version": 3
   },
   "file_extension": ".py",
   "mimetype": "text/x-python",
   "name": "python",
   "nbconvert_exporter": "python",
   "pygments_lexer": "ipython3",
   "version": "3.12.3"
  }
 },
 "nbformat": 4,
 "nbformat_minor": 2
}
