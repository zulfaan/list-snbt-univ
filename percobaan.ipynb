{
 "cells": [
  {
   "cell_type": "code",
   "execution_count": 1,
   "metadata": {},
   "outputs": [],
   "source": [
    "import pandas as pd"
   ]
  },
  {
   "cell_type": "code",
   "execution_count": 4,
   "metadata": {},
   "outputs": [
    {
     "data": {
      "text/html": [
       "<div>\n",
       "<style scoped>\n",
       "    .dataframe tbody tr th:only-of-type {\n",
       "        vertical-align: middle;\n",
       "    }\n",
       "\n",
       "    .dataframe tbody tr th {\n",
       "        vertical-align: top;\n",
       "    }\n",
       "\n",
       "    .dataframe thead th {\n",
       "        text-align: right;\n",
       "    }\n",
       "</style>\n",
       "<table border=\"1\" class=\"dataframe\">\n",
       "  <thead>\n",
       "    <tr style=\"text-align: right;\">\n",
       "      <th></th>\n",
       "      <th>kode_univ</th>\n",
       "      <th>nama_univ</th>\n",
       "      <th>kode_prodi</th>\n",
       "      <th>program_studi</th>\n",
       "      <th>jenjang</th>\n",
       "      <th>daya_tampung_2025</th>\n",
       "      <th>peminat_2024</th>\n",
       "      <th>jenis_portofolio</th>\n",
       "    </tr>\n",
       "  </thead>\n",
       "  <tbody>\n",
       "    <tr>\n",
       "      <th>4956</th>\n",
       "      <td>1713</td>\n",
       "      <td>UIN ALAUDDIN</td>\n",
       "      <td>17131048</td>\n",
       "      <td>KESEJAHTERAAN SOSIAL</td>\n",
       "      <td>Sarjana</td>\n",
       "      <td>48</td>\n",
       "      <td>22.0</td>\n",
       "      <td>Tidak Ada</td>\n",
       "    </tr>\n",
       "    <tr>\n",
       "      <th>4957</th>\n",
       "      <td>1713</td>\n",
       "      <td>UIN ALAUDDIN</td>\n",
       "      <td>17131049</td>\n",
       "      <td>KEBIDANAN</td>\n",
       "      <td>Sarjana</td>\n",
       "      <td>32</td>\n",
       "      <td>NaN</td>\n",
       "      <td>Tidak Ada</td>\n",
       "    </tr>\n",
       "    <tr>\n",
       "      <th>4958</th>\n",
       "      <td>1732</td>\n",
       "      <td>UIN DATOKARAMA PALU</td>\n",
       "      <td>17321001</td>\n",
       "      <td>INFORMATIKA</td>\n",
       "      <td>Sarjana</td>\n",
       "      <td>42</td>\n",
       "      <td>40.0</td>\n",
       "      <td>Tidak Ada</td>\n",
       "    </tr>\n",
       "    <tr>\n",
       "      <th>4959</th>\n",
       "      <td>1732</td>\n",
       "      <td>UIN DATOKARAMA PALU</td>\n",
       "      <td>17321002</td>\n",
       "      <td>ARSITEKTUR</td>\n",
       "      <td>Sarjana</td>\n",
       "      <td>28</td>\n",
       "      <td>9.0</td>\n",
       "      <td>Tidak Ada</td>\n",
       "    </tr>\n",
       "    <tr>\n",
       "      <th>4960</th>\n",
       "      <td>1732</td>\n",
       "      <td>UIN DATOKARAMA PALU</td>\n",
       "      <td>17321003</td>\n",
       "      <td>SISTEM INFORMASI</td>\n",
       "      <td>Sarjana</td>\n",
       "      <td>28</td>\n",
       "      <td>25.0</td>\n",
       "      <td>Tidak Ada</td>\n",
       "    </tr>\n",
       "  </tbody>\n",
       "</table>\n",
       "</div>"
      ],
      "text/plain": [
       "      kode_univ            nama_univ  kode_prodi         program_studi  \\\n",
       "4956       1713         UIN ALAUDDIN    17131048  KESEJAHTERAAN SOSIAL   \n",
       "4957       1713         UIN ALAUDDIN    17131049             KEBIDANAN   \n",
       "4958       1732  UIN DATOKARAMA PALU    17321001           INFORMATIKA   \n",
       "4959       1732  UIN DATOKARAMA PALU    17321002            ARSITEKTUR   \n",
       "4960       1732  UIN DATOKARAMA PALU    17321003      SISTEM INFORMASI   \n",
       "\n",
       "      jenjang  daya_tampung_2025  peminat_2024 jenis_portofolio  \n",
       "4956  Sarjana                 48          22.0        Tidak Ada  \n",
       "4957  Sarjana                 32           NaN        Tidak Ada  \n",
       "4958  Sarjana                 42          40.0        Tidak Ada  \n",
       "4959  Sarjana                 28           9.0        Tidak Ada  \n",
       "4960  Sarjana                 28          25.0        Tidak Ada  "
      ]
     },
     "execution_count": 4,
     "metadata": {},
     "output_type": "execute_result"
    }
   ],
   "source": [
    "df = pd.read_csv('raw-data/raw_list_prodi.csv')\n",
    "df.tail(5)"
   ]
  },
  {
   "cell_type": "code",
   "execution_count": null,
   "metadata": {},
   "outputs": [],
   "source": []
  }
 ],
 "metadata": {
  "kernelspec": {
   "display_name": "Python 3",
   "language": "python",
   "name": "python3"
  },
  "language_info": {
   "codemirror_mode": {
    "name": "ipython",
    "version": 3
   },
   "file_extension": ".py",
   "mimetype": "text/x-python",
   "name": "python",
   "nbconvert_exporter": "python",
   "pygments_lexer": "ipython3",
   "version": "3.12.3"
  }
 },
 "nbformat": 4,
 "nbformat_minor": 2
}
